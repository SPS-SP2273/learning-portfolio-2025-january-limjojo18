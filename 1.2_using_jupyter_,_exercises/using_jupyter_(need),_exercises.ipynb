{
 "cells": [
  {
   "attachments": {},
   "cell_type": "markdown",
   "id": "123456",
   "metadata": {},
   "source": [
    "<div style=\"text-align:left;font-size:2em\"><span style=\"font-weight:bolder;font-size:1.25em\">SP2273 | Learning Portfolio</span><br><br><span style=\"font-weight:bold;color:darkred\">Using Jupyter (Need), Exercises</span></div>"
   ]
  },
  {
   "attachments": {},
   "cell_type": "markdown",
   "id": "e2f312b9",
   "metadata": {},
   "source": [
    "## 1 Quadratic Equations"
   ]
  },
  {
   "attachments": {},
   "cell_type": "markdown",
   "id": "cb8344c4",
   "metadata": {},
   "source": [
    "### Introduction"
   ]
  },
  {
   "cell_type": "markdown",
   "id": "516d73ec-5ddb-43b5-a9f8-59523bb6b730",
   "metadata": {},
   "source": [
    "![](https://upload.wikimedia.org/wikipedia/commons/thumb/f/f8/Polynomialdeg2.svg/600px-Polynomialdeg2.svg.png)"
   ]
  },
  {
   "cell_type": "markdown",
   "id": "023b28af-ac61-4a5e-9b6d-1ce034bbd89a",
   "metadata": {},
   "source": [
    "The general form of a quadratic equation is:\n",
    "\n",
    "$ax^2+bx+c$"
   ]
  },
  {
   "attachments": {},
   "cell_type": "markdown",
   "id": "1fa36e46",
   "metadata": {},
   "source": [
    "### Solutions"
   ]
  },
  {
   "cell_type": "markdown",
   "id": "411bc50d-1112-41f3-a2fc-74036e02cceb",
   "metadata": {},
   "source": [
    "Provided , we can use an elementary algebraic method called completing the square to show that a quadratic equation has the following solution:\n",
    "\n",
    "$$\n",
    "x = \\dfrac{-b \\pm \\sqrt{b^2-4ac}}{2a}\n",
    "$$\n"
   ]
  },
  {
   "attachments": {},
   "cell_type": "markdown",
   "id": "5c53332f",
   "metadata": {},
   "source": [
    "### Discriminant"
   ]
  },
  {
   "cell_type": "markdown",
   "id": "8439b19f-a99b-463c-a019-8df2c4c6c618",
   "metadata": {},
   "source": [
    "The quantity $\\Delta$ = $b^2 - 4ac$ is called the discriminant of the equation and decides the nature of its solutions. \n",
    "\n",
    "The table below shows the various possibilities.\n",
    "\n",
    "| Discriminant    |    Roots |\n",
    "| :--: | :--- |\n",
    "| $\\Delta$ = $b^2 - 4ac = 0$  |   A single solution of $-b/(2a)$ |\n",
    "| $\\Delta$ = $b^2 - 4ac \\gt 0$   |   Two distinct solutions |\n",
    "| $\\Delta$ = $b^2 - 4ac \\lt 0$   |   No real solutions; both are complex. |"
   ]
  },
  {
   "cell_type": "markdown",
   "id": "384ebf48-b7e3-4738-bebb-288ad6a6dc1b",
   "metadata": {},
   "source": [
    "## Exercise 2 (In Your Own Words)"
   ]
  },
  {
   "cell_type": "markdown",
   "id": "256617e9-a5f3-4d20-be72-3d76326d8803",
   "metadata": {},
   "source": [
    "**What is a Git repository?**\n",
    "A: A folder on the GitHub server created to store our codes\n",
    "\n",
    "**Git keeps track of *changes*in the files in our repository.**\n",
    "\n",
    "**What is a commit?**\n",
    "A: To submit changes made to a file\n",
    "\n",
    "**What is a push?**\n",
    "A: To upload the file to the cloud\n",
    "\n",
    "**What is a pull?**\n",
    "A: To accept suggestions and make changes to our local file \n",
    "\n",
    "**What is the difference between GitHub and GitHub Desktop?**\n",
    "A: GitHub desktop is used to commit, push and pull file, whereas GitHub is used to make changes to codes/files"
   ]
  },
  {
   "cell_type": "markdown",
   "id": "4090a4a0-4ece-4bad-91ee-7a6e6d47c4eb",
   "metadata": {},
   "source": [
    "## Exercise 3 (A Matter of Statistics)"
   ]
  },
  {
   "cell_type": "markdown",
   "id": "7c7f43d7-5337-42ed-9389-974b45129b68",
   "metadata": {},
   "source": [
    "$$\n",
    "\\mu = \\dfrac{1}{n} \\sum_{i=1}^{n} x_i\n",
    "$$"
   ]
  },
  {
   "cell_type": "markdown",
   "id": "d1a20836-6a03-4f1e-9ec3-1883a21f8ecf",
   "metadata": {},
   "source": [
    "$$\n",
    "\\sigma = \\sqrt{\\dfrac{1}{n} \\sum_{i=1}^{n}(x_i - \\mu)^2}\n",
    "$$"
   ]
  },
  {
   "cell_type": "markdown",
   "id": "8624a7f6-cdce-4a4a-9a51-22e687104862",
   "metadata": {},
   "source": [
    "$$\n",
    "r = \\dfrac{\\sum_{i=1}^{n}(x_i - \\mu_{X})(y_i - \\mu_{Y})}{\\sqrt{\\sum_{i=1}^{n}(x_i - \\mu_{X})^2 {\\sum_{i=1}^{n}(y_i - \\mu_{Y})^2}}}\n",
    "$$"
   ]
  },
  {
   "cell_type": "code",
   "execution_count": null,
   "id": "e022bea6-3d41-4f7d-8b8a-6e1e56fbba5c",
   "metadata": {},
   "outputs": [],
   "source": []
  }
 ],
 "metadata": {
  "kernelspec": {
   "display_name": "Python 3 (ipykernel)",
   "language": "python",
   "name": "python3"
  },
  "language_info": {
   "codemirror_mode": {
    "name": "ipython",
    "version": 3
   },
   "file_extension": ".py",
   "mimetype": "text/x-python",
   "name": "python",
   "nbconvert_exporter": "python",
   "pygments_lexer": "ipython3",
   "version": "3.12.2"
  },
  "toc": {
   "base_numbering": 1,
   "nav_menu": {},
   "number_sections": true,
   "sideBar": true,
   "skip_h1_title": false,
   "title_cell": "Table of Contents",
   "title_sidebar": "Contents",
   "toc_cell": false,
   "toc_position": {},
   "toc_section_display": true,
   "toc_window_display": false
  },
  "vscode": {
   "interpreter": {
    "hash": "31f2aee4e71d21fbe5cf8b01ff0e069b9275f58929596ceb00d14d90e3e16cd6"
   }
  }
 },
 "nbformat": 4,
 "nbformat_minor": 5
}
